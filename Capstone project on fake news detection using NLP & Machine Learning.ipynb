{
 "cells": [
  {
   "cell_type": "code",
   "execution_count": 1,
   "id": "a3070a06",
   "metadata": {},
   "outputs": [],
   "source": [
    "# import the libraries\n",
    "import numpy as np\n",
    "import pandas as pd\n",
    "import matplotlib.pyplot as plt"
   ]
  },
  {
   "cell_type": "code",
   "execution_count": 2,
   "id": "b55be96c",
   "metadata": {},
   "outputs": [
    {
     "data": {
      "text/html": [
       "<div>\n",
       "<style scoped>\n",
       "    .dataframe tbody tr th:only-of-type {\n",
       "        vertical-align: middle;\n",
       "    }\n",
       "\n",
       "    .dataframe tbody tr th {\n",
       "        vertical-align: top;\n",
       "    }\n",
       "\n",
       "    .dataframe thead th {\n",
       "        text-align: right;\n",
       "    }\n",
       "</style>\n",
       "<table border=\"1\" class=\"dataframe\">\n",
       "  <thead>\n",
       "    <tr style=\"text-align: right;\">\n",
       "      <th></th>\n",
       "      <th>label</th>\n",
       "      <th>text</th>\n",
       "    </tr>\n",
       "  </thead>\n",
       "  <tbody>\n",
       "    <tr>\n",
       "      <th>0</th>\n",
       "      <td>REAL</td>\n",
       "      <td>Payal has accused filmmaker Anurag Kashyap of ...</td>\n",
       "    </tr>\n",
       "    <tr>\n",
       "      <th>1</th>\n",
       "      <td>FAKE</td>\n",
       "      <td>A four-minute-long video of a woman criticisin...</td>\n",
       "    </tr>\n",
       "    <tr>\n",
       "      <th>2</th>\n",
       "      <td>FAKE</td>\n",
       "      <td>Republic Poll, a fake Twitter account imitatin...</td>\n",
       "    </tr>\n",
       "    <tr>\n",
       "      <th>3</th>\n",
       "      <td>REAL</td>\n",
       "      <td>Delhi teen finds place on UN green list, turns...</td>\n",
       "    </tr>\n",
       "    <tr>\n",
       "      <th>4</th>\n",
       "      <td>REAL</td>\n",
       "      <td>Delhi: A high-level meeting underway at reside...</td>\n",
       "    </tr>\n",
       "    <tr>\n",
       "      <th>...</th>\n",
       "      <td>...</td>\n",
       "      <td>...</td>\n",
       "    </tr>\n",
       "    <tr>\n",
       "      <th>3724</th>\n",
       "      <td>REAL</td>\n",
       "      <td>19:17 (IST) Sep 20\\n\\nThe second round of coun...</td>\n",
       "    </tr>\n",
       "    <tr>\n",
       "      <th>3725</th>\n",
       "      <td>REAL</td>\n",
       "      <td>19:17 (IST) Sep 20\\n\\nThe second round of coun...</td>\n",
       "    </tr>\n",
       "    <tr>\n",
       "      <th>3726</th>\n",
       "      <td>FAKE</td>\n",
       "      <td>The Bengaluru City Police’s official Twitter h...</td>\n",
       "    </tr>\n",
       "    <tr>\n",
       "      <th>3727</th>\n",
       "      <td>REAL</td>\n",
       "      <td>Sep 20, 2020, 08:00AM IST\\n\\nSource: TOI.in\\n\\...</td>\n",
       "    </tr>\n",
       "    <tr>\n",
       "      <th>3728</th>\n",
       "      <td>REAL</td>\n",
       "      <td>Read Also\\n\\nRead Also\\n\\nAdvocate Ishkaran Bh...</td>\n",
       "    </tr>\n",
       "  </tbody>\n",
       "</table>\n",
       "<p>3729 rows × 2 columns</p>\n",
       "</div>"
      ],
      "text/plain": [
       "     label                                               text\n",
       "0     REAL  Payal has accused filmmaker Anurag Kashyap of ...\n",
       "1     FAKE  A four-minute-long video of a woman criticisin...\n",
       "2     FAKE  Republic Poll, a fake Twitter account imitatin...\n",
       "3     REAL  Delhi teen finds place on UN green list, turns...\n",
       "4     REAL  Delhi: A high-level meeting underway at reside...\n",
       "...    ...                                                ...\n",
       "3724  REAL  19:17 (IST) Sep 20\\n\\nThe second round of coun...\n",
       "3725  REAL  19:17 (IST) Sep 20\\n\\nThe second round of coun...\n",
       "3726  FAKE  The Bengaluru City Police’s official Twitter h...\n",
       "3727  REAL  Sep 20, 2020, 08:00AM IST\\n\\nSource: TOI.in\\n\\...\n",
       "3728  REAL  Read Also\\n\\nRead Also\\n\\nAdvocate Ishkaran Bh...\n",
       "\n",
       "[3729 rows x 2 columns]"
      ]
     },
     "execution_count": 2,
     "metadata": {},
     "output_type": "execute_result"
    }
   ],
   "source": [
    "# load the dataset\n",
    "df=pd.read_csv('fake_news_detection.csv')\n",
    "df"
   ]
  },
  {
   "cell_type": "code",
   "execution_count": 3,
   "id": "ea751632",
   "metadata": {},
   "outputs": [
    {
     "data": {
      "text/plain": [
       "array(['REAL', 'FAKE'], dtype=object)"
      ]
     },
     "execution_count": 3,
     "metadata": {},
     "output_type": "execute_result"
    }
   ],
   "source": [
    "# categories of label column\n",
    "df['label'].unique()"
   ]
  },
  {
   "cell_type": "code",
   "execution_count": 4,
   "id": "9488d604",
   "metadata": {},
   "outputs": [],
   "source": [
    "# replace the label categories\n",
    "df['label'].replace({'FAKE':0,'REAL':1},inplace=True)"
   ]
  },
  {
   "cell_type": "code",
   "execution_count": 5,
   "id": "1792f9a7",
   "metadata": {},
   "outputs": [
    {
     "data": {
      "text/html": [
       "<div>\n",
       "<style scoped>\n",
       "    .dataframe tbody tr th:only-of-type {\n",
       "        vertical-align: middle;\n",
       "    }\n",
       "\n",
       "    .dataframe tbody tr th {\n",
       "        vertical-align: top;\n",
       "    }\n",
       "\n",
       "    .dataframe thead th {\n",
       "        text-align: right;\n",
       "    }\n",
       "</style>\n",
       "<table border=\"1\" class=\"dataframe\">\n",
       "  <thead>\n",
       "    <tr style=\"text-align: right;\">\n",
       "      <th></th>\n",
       "      <th>label</th>\n",
       "      <th>text</th>\n",
       "    </tr>\n",
       "  </thead>\n",
       "  <tbody>\n",
       "    <tr>\n",
       "      <th>0</th>\n",
       "      <td>1</td>\n",
       "      <td>Payal has accused filmmaker Anurag Kashyap of ...</td>\n",
       "    </tr>\n",
       "    <tr>\n",
       "      <th>1</th>\n",
       "      <td>0</td>\n",
       "      <td>A four-minute-long video of a woman criticisin...</td>\n",
       "    </tr>\n",
       "    <tr>\n",
       "      <th>2</th>\n",
       "      <td>0</td>\n",
       "      <td>Republic Poll, a fake Twitter account imitatin...</td>\n",
       "    </tr>\n",
       "    <tr>\n",
       "      <th>3</th>\n",
       "      <td>1</td>\n",
       "      <td>Delhi teen finds place on UN green list, turns...</td>\n",
       "    </tr>\n",
       "    <tr>\n",
       "      <th>4</th>\n",
       "      <td>1</td>\n",
       "      <td>Delhi: A high-level meeting underway at reside...</td>\n",
       "    </tr>\n",
       "    <tr>\n",
       "      <th>...</th>\n",
       "      <td>...</td>\n",
       "      <td>...</td>\n",
       "    </tr>\n",
       "    <tr>\n",
       "      <th>3724</th>\n",
       "      <td>1</td>\n",
       "      <td>19:17 (IST) Sep 20\\n\\nThe second round of coun...</td>\n",
       "    </tr>\n",
       "    <tr>\n",
       "      <th>3725</th>\n",
       "      <td>1</td>\n",
       "      <td>19:17 (IST) Sep 20\\n\\nThe second round of coun...</td>\n",
       "    </tr>\n",
       "    <tr>\n",
       "      <th>3726</th>\n",
       "      <td>0</td>\n",
       "      <td>The Bengaluru City Police’s official Twitter h...</td>\n",
       "    </tr>\n",
       "    <tr>\n",
       "      <th>3727</th>\n",
       "      <td>1</td>\n",
       "      <td>Sep 20, 2020, 08:00AM IST\\n\\nSource: TOI.in\\n\\...</td>\n",
       "    </tr>\n",
       "    <tr>\n",
       "      <th>3728</th>\n",
       "      <td>1</td>\n",
       "      <td>Read Also\\n\\nRead Also\\n\\nAdvocate Ishkaran Bh...</td>\n",
       "    </tr>\n",
       "  </tbody>\n",
       "</table>\n",
       "<p>3729 rows × 2 columns</p>\n",
       "</div>"
      ],
      "text/plain": [
       "      label                                               text\n",
       "0         1  Payal has accused filmmaker Anurag Kashyap of ...\n",
       "1         0  A four-minute-long video of a woman criticisin...\n",
       "2         0  Republic Poll, a fake Twitter account imitatin...\n",
       "3         1  Delhi teen finds place on UN green list, turns...\n",
       "4         1  Delhi: A high-level meeting underway at reside...\n",
       "...     ...                                                ...\n",
       "3724      1  19:17 (IST) Sep 20\\n\\nThe second round of coun...\n",
       "3725      1  19:17 (IST) Sep 20\\n\\nThe second round of coun...\n",
       "3726      0  The Bengaluru City Police’s official Twitter h...\n",
       "3727      1  Sep 20, 2020, 08:00AM IST\\n\\nSource: TOI.in\\n\\...\n",
       "3728      1  Read Also\\n\\nRead Also\\n\\nAdvocate Ishkaran Bh...\n",
       "\n",
       "[3729 rows x 2 columns]"
      ]
     },
     "execution_count": 5,
     "metadata": {},
     "output_type": "execute_result"
    }
   ],
   "source": [
    "df"
   ]
  },
  {
   "cell_type": "code",
   "execution_count": 6,
   "id": "f1ed65b5",
   "metadata": {},
   "outputs": [
    {
     "name": "stdout",
     "output_type": "stream",
     "text": [
      "<class 'pandas.core.frame.DataFrame'>\n",
      "RangeIndex: 3729 entries, 0 to 3728\n",
      "Data columns (total 2 columns):\n",
      " #   Column  Non-Null Count  Dtype \n",
      "---  ------  --------------  ----- \n",
      " 0   label   3729 non-null   int64 \n",
      " 1   text    3721 non-null   object\n",
      "dtypes: int64(1), object(1)\n",
      "memory usage: 58.4+ KB\n"
     ]
    }
   ],
   "source": [
    "df.info()"
   ]
  },
  {
   "cell_type": "code",
   "execution_count": 7,
   "id": "e786750c",
   "metadata": {},
   "outputs": [
    {
     "data": {
      "text/plain": [
       "label    0\n",
       "text     8\n",
       "dtype: int64"
      ]
     },
     "execution_count": 7,
     "metadata": {},
     "output_type": "execute_result"
    }
   ],
   "source": [
    "# check the null values\n",
    "df.isnull().sum()"
   ]
  },
  {
   "cell_type": "code",
   "execution_count": 8,
   "id": "1a440512",
   "metadata": {},
   "outputs": [],
   "source": [
    "df.dropna(inplace=True)"
   ]
  },
  {
   "cell_type": "code",
   "execution_count": 9,
   "id": "3882103f",
   "metadata": {},
   "outputs": [
    {
     "data": {
      "text/plain": [
       "1492"
      ]
     },
     "execution_count": 9,
     "metadata": {},
     "output_type": "execute_result"
    }
   ],
   "source": [
    "# check the duplicated values\n",
    "df.duplicated().sum()"
   ]
  },
  {
   "cell_type": "code",
   "execution_count": 10,
   "id": "7da6315e",
   "metadata": {},
   "outputs": [],
   "source": [
    "df.drop_duplicates(inplace=True)"
   ]
  },
  {
   "cell_type": "code",
   "execution_count": 11,
   "id": "f33304b1",
   "metadata": {},
   "outputs": [
    {
     "data": {
      "text/plain": [
       "label                                                    1\n",
       "text     NEW DELHI: As many as 21 states, mostly ruled ...\n",
       "Name: 17, dtype: object"
      ]
     },
     "execution_count": 11,
     "metadata": {},
     "output_type": "execute_result"
    }
   ],
   "source": [
    "df.iloc[16]"
   ]
  },
  {
   "cell_type": "code",
   "execution_count": 12,
   "id": "7925990b",
   "metadata": {},
   "outputs": [],
   "source": [
    "df.reset_index(inplace=True)"
   ]
  },
  {
   "cell_type": "code",
   "execution_count": 13,
   "id": "77ea7ab0",
   "metadata": {},
   "outputs": [],
   "source": [
    "# import NLP libraries\n",
    "import re\n",
    "from nltk.corpus import stopwords\n",
    "from nltk.stem import WordNetLemmatizer\n",
    "wnl=WordNetLemmatizer()"
   ]
  },
  {
   "cell_type": "code",
   "execution_count": 14,
   "id": "c2f74c86",
   "metadata": {},
   "outputs": [],
   "source": [
    "# remove the punctuations,stopwords\n",
    "corpus=[]\n",
    "for i in range(len(df)):\n",
    "    rp=re.sub('[^a-zA-Z]',\" \",df['text'][i])\n",
    "    rp=rp.lower()\n",
    "    rp=rp.split()\n",
    "    rp=[wnl.lemmatize(word) for word in rp if word not in set(stopwords.words('english'))]\n",
    "    rp=\" \".join(rp)\n",
    "    corpus.append(rp)"
   ]
  },
  {
   "cell_type": "code",
   "execution_count": 15,
   "id": "96fcb2b8",
   "metadata": {},
   "outputs": [],
   "source": [
    "x=df['text']\n",
    "y=df['label']"
   ]
  },
  {
   "cell_type": "code",
   "execution_count": 16,
   "id": "eedc3590",
   "metadata": {},
   "outputs": [],
   "source": [
    "# train_test split\n",
    "from sklearn.model_selection import train_test_split\n",
    "x_train,x_test,y_train,y_test=train_test_split(x,y,test_size=0.2,random_state=42)"
   ]
  },
  {
   "cell_type": "code",
   "execution_count": 17,
   "id": "fa968b0a",
   "metadata": {},
   "outputs": [],
   "source": [
    "# vectorization\n",
    "from sklearn.feature_extraction.text import TfidfVectorizer\n",
    "vectorization=TfidfVectorizer()\n",
    "x_train=vectorization.fit_transform(x_train)\n",
    "x_test=vectorization.transform(x_test)"
   ]
  },
  {
   "cell_type": "code",
   "execution_count": 18,
   "id": "82e81a1e",
   "metadata": {},
   "outputs": [
    {
     "name": "stdout",
     "output_type": "stream",
     "text": [
      "train accuracy: 0.9820527201346047\n",
      "test accuracy: 0.9304932735426009\n"
     ]
    }
   ],
   "source": [
    "#modeling & evaluation\n",
    "from sklearn.linear_model import LogisticRegression\n",
    "LR=LogisticRegression()\n",
    "LR.fit(x_train,y_train)\n",
    "\n",
    "#prediction\n",
    "ypred_train=LR.predict(x_train)\n",
    "ypred_test=LR.predict(x_test)\n",
    "\n",
    "# train & test accuracy\n",
    "from sklearn.metrics import accuracy_score\n",
    "print('train accuracy:',accuracy_score(y_train,ypred_train))\n",
    "print('test accuracy:',accuracy_score(y_test,ypred_test))"
   ]
  },
  {
   "cell_type": "code",
   "execution_count": 19,
   "id": "361d6b58",
   "metadata": {},
   "outputs": [
    {
     "name": "stdout",
     "output_type": "stream",
     "text": [
      "              precision    recall  f1-score   support\n",
      "\n",
      "           0       0.92      1.00      0.96       370\n",
      "           1       1.00      0.59      0.74        76\n",
      "\n",
      "    accuracy                           0.93       446\n",
      "   macro avg       0.96      0.80      0.85       446\n",
      "weighted avg       0.94      0.93      0.92       446\n",
      "\n"
     ]
    }
   ],
   "source": [
    "# classification report\n",
    "from sklearn.metrics import classification_report\n",
    "print(classification_report(y_test,ypred_test))"
   ]
  },
  {
   "cell_type": "code",
   "execution_count": 20,
   "id": "95862b48",
   "metadata": {},
   "outputs": [
    {
     "name": "stdout",
     "output_type": "stream",
     "text": [
      "train_accuracy: 1.0\n",
      "test_accuracy: 0.9730941704035875\n"
     ]
    }
   ],
   "source": [
    "#modeling & evaluation\n",
    "from sklearn.tree import DecisionTreeClassifier\n",
    "DT=DecisionTreeClassifier(random_state=0)\n",
    "DT.fit(x_train,y_train)\n",
    "\n",
    "#prediction\n",
    "ypred_train=DT.predict(x_train)\n",
    "ypred_test=DT.predict(x_test)\n",
    "\n",
    "# train & test accuracy\n",
    "from sklearn.metrics import accuracy_score\n",
    "print('train_accuracy:',accuracy_score(ypred_train,y_train))\n",
    "print('test_accuracy:',accuracy_score(ypred_test,y_test))"
   ]
  },
  {
   "cell_type": "code",
   "execution_count": 21,
   "id": "e298088c",
   "metadata": {},
   "outputs": [
    {
     "name": "stdout",
     "output_type": "stream",
     "text": [
      "              precision    recall  f1-score   support\n",
      "\n",
      "           0       0.98      0.99      0.98       370\n",
      "           1       0.93      0.91      0.92        76\n",
      "\n",
      "    accuracy                           0.97       446\n",
      "   macro avg       0.96      0.95      0.95       446\n",
      "weighted avg       0.97      0.97      0.97       446\n",
      "\n"
     ]
    }
   ],
   "source": [
    "# classification report\n",
    "from sklearn.metrics import classification_report\n",
    "print(classification_report(y_test,ypred_test))"
   ]
  },
  {
   "cell_type": "code",
   "execution_count": 22,
   "id": "bc6c3dfa",
   "metadata": {},
   "outputs": [
    {
     "name": "stdout",
     "output_type": "stream",
     "text": [
      "train_accuracy: 1.0\n",
      "test_accuracy: 0.9932735426008968\n"
     ]
    }
   ],
   "source": [
    "#modeling & evaluation\n",
    "from sklearn.ensemble import GradientBoostingClassifier\n",
    "GB=GradientBoostingClassifier()\n",
    "GB.fit(x_train,y_train)\n",
    "\n",
    "#prediction\n",
    "ypred_train=GB.predict(x_train)\n",
    "ypred_test=GB.predict(x_test)\n",
    "\n",
    "# train & test accuracy\n",
    "from sklearn.metrics import accuracy_score\n",
    "print('train_accuracy:',accuracy_score(ypred_train,y_train))\n",
    "print('test_accuracy:',accuracy_score(ypred_test,y_test))"
   ]
  },
  {
   "cell_type": "code",
   "execution_count": 23,
   "id": "edda8a4d",
   "metadata": {},
   "outputs": [
    {
     "name": "stdout",
     "output_type": "stream",
     "text": [
      "              precision    recall  f1-score   support\n",
      "\n",
      "           0       1.00      0.99      1.00       370\n",
      "           1       0.97      0.99      0.98        76\n",
      "\n",
      "    accuracy                           0.99       446\n",
      "   macro avg       0.99      0.99      0.99       446\n",
      "weighted avg       0.99      0.99      0.99       446\n",
      "\n"
     ]
    }
   ],
   "source": [
    "# classification report\n",
    "from sklearn.metrics import classification_report\n",
    "print(classification_report(y_test,ypred_test))"
   ]
  },
  {
   "cell_type": "code",
   "execution_count": 24,
   "id": "dc0a4be4",
   "metadata": {},
   "outputs": [
    {
     "name": "stdout",
     "output_type": "stream",
     "text": [
      "train_accuracy: 1.0\n",
      "test_accuracy: 0.9865470852017937\n"
     ]
    }
   ],
   "source": [
    "#modeling & evaluation\n",
    "from sklearn.ensemble import RandomForestClassifier\n",
    "RF=RandomForestClassifier()\n",
    "RF.fit(x_train,y_train)\n",
    "\n",
    "#prediction\n",
    "ypred_train=RF.predict(x_train)\n",
    "ypred_test=RF.predict(x_test)\n",
    "\n",
    "# train & test accuracy\n",
    "from sklearn.metrics import accuracy_score\n",
    "print('train_accuracy:',accuracy_score(ypred_train,y_train))\n",
    "print('test_accuracy:',accuracy_score(ypred_test,y_test))"
   ]
  },
  {
   "cell_type": "code",
   "execution_count": 25,
   "id": "f5ab1655",
   "metadata": {},
   "outputs": [
    {
     "name": "stdout",
     "output_type": "stream",
     "text": [
      "              precision    recall  f1-score   support\n",
      "\n",
      "           0       0.98      1.00      0.99       370\n",
      "           1       1.00      0.92      0.96        76\n",
      "\n",
      "    accuracy                           0.99       446\n",
      "   macro avg       0.99      0.96      0.98       446\n",
      "weighted avg       0.99      0.99      0.99       446\n",
      "\n"
     ]
    }
   ],
   "source": [
    "# classification report\n",
    "from sklearn.metrics import classification_report\n",
    "print(classification_report(y_test,ypred_test))"
   ]
  },
  {
   "cell_type": "code",
   "execution_count": 26,
   "id": "40bf6859",
   "metadata": {},
   "outputs": [],
   "source": [
    "def pred(text):\n",
    "    if text==0:\n",
    "        return'fake news'\n",
    "    else:\n",
    "        return'not a fake news'\n",
    "def manual_testing(news):\n",
    "    testing_news={'text':[news]}\n",
    "    new_def_test=pd.DataFrame(testing_news)\n",
    "    corpus=[]\n",
    "    for i in range(len(new_def_test)):\n",
    "        rp=re.sub('[^a-zA-Z]',\" \",new_def_test['text'][i])\n",
    "        rsw=rp.lower()\n",
    "        rsw=rsw.split()\n",
    "        rsw=[wnl.lemmatize(word) for word in rsw if word not in set(stopwords.words('english'))]\n",
    "        rsw=\" \".join(rsw)\n",
    "        corpus.append(rsw)\n",
    "    new_test=vectorization.transform(corpus)\n",
    "    pred_LR=LR.predict(new_test)\n",
    "    pred_DT=DT.predict(new_test)\n",
    "    pred_GB=GB.predict(new_test)\n",
    "    pred_RF=RF.predict(new_test)\n",
    "\n",
    "    return print(\"\\n\\nlr prediction:{} \\ndt prediction:{} \\ngb prediction:{} \\nrf prediction:{}\".format(pred(pred_LR[0]),pred(pred_DT[0]),pred(pred_GB[0]),pred(pred_RF[0])))"
   ]
  },
  {
   "cell_type": "code",
   "execution_count": 27,
   "id": "6cb51119",
   "metadata": {},
   "outputs": [
    {
     "name": "stdout",
     "output_type": "stream",
     "text": [
      "\"Republic Poll, a fake Twitter account imitating the Arnab Goswami-led Republic TV, is angering netizens with its controversial polls as Twitter users including journalists mistake it for the channel's official account.    The fake account (@RepublicPoll) uses a logo very similar to Republic TV's logo and does not mention in its bio whether it is related to Republic TV or if it is a fan account. Twitter's rules require that a fan account or parody account should indicate the same.  Also Read:Did Nita Ambani Ask For Support For CAA?      Siddharth Varadarajan, founding editor of The Wire.in, in a now deleted tweet, had shared a screenshot of a poll by the fake account claiming it was a 'poll run by a \"\"nationalistic\"\" media house'.  This is hilarious. Despite the desperate phrasing of the question, this poll run by a \"\"nationalist\"\" media house has ended up condemning the innocent, \"\"minority in JNU\"\" ABVP. pic.twitter.com/gQGtzFEU26 â€” Siddharth (@svaradarajan) January 7, 2020          After several Twitter users pointed out that the account was fake Varadarajan later clarified that it was a parody account.  So I am told @republicpoll is a parody account. Which kinda makes sense since Republic TV is a parody news channel! â€” Siddharth (@svaradarajan) January 7, 2020      \"\"Nudge\"\" In polling via carefully placed words like 'goons' and 'minority in JNU' doesn't seem to work. pic.twitter.com/Vfa2dfxVST â€” Andy Mukherjee (@andymukherjee70) January 6, 2020  Click here to view an archive.  We compared the official logo of Republic TV with the logo used by the fake Twitter account and found that they do not match. The fake account is not verified and created on April 1, 2019, whereas Republic TV official Twitter account was created in December 2016.        Republic TV (@Republic) has been conducting polls on its official Twitter handle.  #TukdeGangSpotted | Is there a pattern to the protests? â€” Republic (@republic) January 6, 2020  The fake account has been regularly tweeting these polls, and while writing the article, it has 244 tweets, all of which are controversial polls. It currently has 2,671 Followers, whereas the official Republic TV Twitter account has 769 lakh followers and is not following it.  Loaded Polls By '@RepublicPoll'    The fake account has been tweeting polls on recent issues framing it with an ideologically right wing slant. Click here to view an archive.  Click here to view an archive.  #SwaraBhaskar has no any valid document.  Then the Question that arises is....    How this lately Anarkali travel all around the World without Passport ??? â€” Republic Poll (@RepublicPoll) January 5, 2020  Click here to view an archive.  Several Twitter users have taken on the account for its polls. The fake account has also deleted polls that are not favorable to it.  Despite your best attempts at trying to sway the votes by calling JNU students goons and ABVP a minority, people's votes show who the culprit is and who the chutiya is. Ghar jao kutton. pic.twitter.com/8Of3ejMt3p â€” Rutuja/à¤‹à¤¤à¥à¤œà¤¾ðŸ‡®ðŸ‡³ (@HavaldarShinde) January 6, 2020                \"\n",
      "\n",
      "\n",
      "lr prediction:fake news \n",
      "dt prediction:fake news \n",
      "gb prediction:fake news \n",
      "rf prediction:fake news\n"
     ]
    }
   ],
   "source": [
    "# check the given news is fake or not a fake news\n",
    "news=str(input())\n",
    "manual_testing(news)"
   ]
  },
  {
   "cell_type": "code",
   "execution_count": 28,
   "id": "0c77b745",
   "metadata": {},
   "outputs": [
    {
     "name": "stdout",
     "output_type": "stream",
     "text": [
      "\"Delhi teen finds place on UN green list, turns glass into sand  NEW DELHI: Udit Singhal , who founded a startup to turn glass bottles into sand , has been named among 17 people in the United Nationâ€™s 2020 Class of Young Leaders for Sustainable Development Goals (SDGs). The programme is a flagship initiative that recognises the efforts of young people in driving action and galvanising others in support of UNâ€™s 2030 agenda for sustainable development.Singhal, an 18-year-old who lives near Mandi House, told TOI, â€œI feel proud to represent India. Along with 16 others, Iâ€™ll work to motivate youths and achieve SDGs. I hope to be able to encourage communities to inculcate better civic sense to create sustainable living spaces.â€ The teenager attended the UN function online due to the Covid pandemic. â€œIn the normal scenario, I would have gone to New York,â€ he added.Singhal had founded Glass2Sand in 2019 as a zero-waste system that turns bottles into economically viable sand. â€œIn 2018, I found a pile of bottles at home. During research, I learnt that ragpickers were not interested in collecting glass bottles because of little demand, high transportation cost and storage space. So empty glass bottles often ended up at the landfills. Do you know it takes a million years for a glass bottle to decompose?â€Singhal then imported a machine from New Zealand with a special grant from the New Zealand High Commissioner in India and went to work helped by 65 volunteers, six diplomatic missions and four institutions, collecting bottles from across Delhi. â€œIt takes five seconds to turn one empty glass bottle into sand. We have crushed 8,000 kg of bottles into 4,800 kg of high-grade silica sand so far,â€ he said. â€œThis silica sand is commercially viable because it is used in construction, including roads and as lining in furnaces. It is more valuable than river sand in making concrete.â€Singhal studied in The British School in Delhi and is currently a freshman at University College in London where he is a management sciences student.Other young leaders cited by Jayathma Wickramanayake, the UN Secretary-Generalâ€™s Envoy on Youth, for â€œleading the way in shaping a more sustainable and inclusive future for allâ€ belong to the United States, Turkey, China, Pakistan, Peru, Egypt, Senegal, Bulgaria, Nigeria, Brazil, Liberia, Ireland, Colombia, Australia, Uganda and Bangladesh.\"\n",
      "\n",
      "\n",
      "lr prediction:not a fake news \n",
      "dt prediction:not a fake news \n",
      "gb prediction:not a fake news \n",
      "rf prediction:not a fake news\n"
     ]
    }
   ],
   "source": [
    "news=str(input())\n",
    "manual_testing(news)"
   ]
  }
 ],
 "metadata": {
  "kernelspec": {
   "display_name": "Python 3 (ipykernel)",
   "language": "python",
   "name": "python3"
  },
  "language_info": {
   "codemirror_mode": {
    "name": "ipython",
    "version": 3
   },
   "file_extension": ".py",
   "mimetype": "text/x-python",
   "name": "python",
   "nbconvert_exporter": "python",
   "pygments_lexer": "ipython3",
   "version": "3.9.13"
  }
 },
 "nbformat": 4,
 "nbformat_minor": 5
}
